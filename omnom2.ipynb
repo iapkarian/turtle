{
 "cells": [
  {
   "cell_type": "code",
   "execution_count": 24,
   "metadata": {
    "collapsed": false
   },
   "outputs": [],
   "source": [
    "import turtle\n",
    "t = turtle.Turtle()\n",
    "t.speed(5)\n",
    "t.color('black')\n",
    "t.pensize(2)\n",
    "\n",
    "a = 50"
   ]
  },
  {
   "cell_type": "code",
   "execution_count": 25,
   "metadata": {
    "collapsed": true
   },
   "outputs": [],
   "source": [
    "def legs(a):\n",
    "    t.forward(15)\n",
    "    t.left(180)\n",
    "    t.forward(30)\n",
    "    t.circle(a / 7, 90)\n",
    "    t.forward(30)\n",
    "    t.circle(a / 7, 90)\n",
    "    t.forward(30)\n",
    "    t.left(180)\n",
    "    t.forward(15)"
   ]
  },
  {
   "cell_type": "code",
   "execution_count": 26,
   "metadata": {
    "collapsed": true
   },
   "outputs": [],
   "source": [
    "def apple_of_the_eye(a):\n",
    "    t.pendown()\n",
    "    apple_height = a/5\n",
    "    apple_width = a\n",
    "\n",
    "    t.begin_fill()\n",
    "    for i in range(2):\n",
    "        t.forward(apple_width/2)\n",
    "        t.circle(apple_height/4, 90)\n",
    "        t.forward(apple_height/2)\n",
    "        t.circle(apple_height/4, 90)\n",
    "    t.forward(apple_width/2)\n",
    "    t.fillcolor('black')\n",
    "    t.end_fill()\n",
    "    t.penup()"
   ]
  },
  {
   "cell_type": "code",
   "execution_count": 27,
   "metadata": {
    "collapsed": true
   },
   "outputs": [],
   "source": [
    "def lateral_tooth(a):\n",
    "    t.begin_fill()\n",
    "    t.right(50)\n",
    "    t.circle(a*3, 15)\n",
    "    t.circle(a/7, 100)\n",
    "    t.left(15)\n",
    "    t.circle(a*3, 12)\n",
    "    t.fillcolor('white')\n",
    "    t.end_fill()\n",
    "\n"
   ]
  },
  {
   "cell_type": "code",
   "execution_count": 28,
   "metadata": {
    "collapsed": true
   },
   "outputs": [],
   "source": [
    "def middle_tooth(a):\n",
    "    t.begin_fill()\n",
    "    t.circle(a, 30)\n",
    "    t.circle(a / 6.5, 60)\n",
    "    t.left(10)\n",
    "    t.circle(a, 40)\n",
    "    t.fillcolor('white')\n",
    "    t.end_fill()"
   ]
  },
  {
   "cell_type": "code",
   "execution_count": 29,
   "metadata": {
    "collapsed": false
   },
   "outputs": [],
   "source": [
    "t.penup()\n",
    "t.begin_fill()\n",
    "t.fillcolor('green')\n",
    "\n",
    "t.home()\n",
    "t.right(90)\n",
    "t.circle(-a, 200)\n",
    "t.left(150)\n",
    "t.forward(a)\n",
    "t.left(75)\n",
    "t.circle(a * 3, 5)\n",
    "t.right(50)\n",
    "t.circle(a * 3, 15)\n",
    "t.circle(a / 7, 50)\n",
    "t.pendown()\n",
    "\n",
    "t.right(60)\n",
    "t.circle(a * 3, 20)\n",
    "t.right(180)\n",
    "t.circle(-a * 3, 5)\n",
    "t.left(100)\n",
    "t.forward(30)\n",
    "t.circle(a/7, 75)\n",
    "t.forward(20)\n",
    "t.circle(a / 7, 75)\n",
    "t.circle(a * 4, 20)\n",
    "\n",
    "t.left(90)\n",
    "legs(a)\n",
    "t.left(80)\n",
    "t.circle(a * 7, 20)\n",
    "t.left(80)\n",
    "legs(a)\n",
    "\n",
    "t.left(95)\n",
    "t.circle(a * 4, 20)\n",
    "t.circle(a / 7, 75)\n",
    "t.forward(20)\n",
    "t.circle(a / 7, 75)\n",
    "t.forward(30)\n",
    "t.left(100)\n",
    "t.circle(-a * 3, 5)\n",
    "t.right(180)\n",
    "\n",
    "t.circle(a * 3, 20)\n",
    "t.right(60)\n",
    "\n",
    "t.end_fill()\n"
   ]
  },
  {
   "cell_type": "markdown",
   "metadata": {},
   "source": [
    "Eyes"
   ]
  },
  {
   "cell_type": "code",
   "execution_count": 30,
   "metadata": {
    "collapsed": true
   },
   "outputs": [],
   "source": [
    "t.home()\n",
    "\n",
    "t.begin_fill()\n",
    "t.fillcolor('white')\n",
    "\n",
    "t.right(90)\n",
    "t.circle(a)\n",
    "t.penup()\n",
    "t.goto(-a*2, 0)\n",
    "t.pendown()\n",
    "t.circle(a)\n",
    "\n",
    "t.end_fill()\n",
    "\n",
    "t.penup()\n",
    "\n",
    "t.home()\n",
    "t.goto(a/3, a/10)\n",
    "t.right(90)\n",
    "apple_of_the_eye(a)\n",
    "t.goto(-a/1.5, a/10)\n",
    "apple_of_the_eye(a)"
   ]
  },
  {
   "cell_type": "markdown",
   "metadata": {},
   "source": [
    "Head"
   ]
  },
  {
   "cell_type": "code",
   "execution_count": 31,
   "metadata": {
    "collapsed": false
   },
   "outputs": [],
   "source": [
    "t.begin_fill()\n",
    "\n",
    "t.home()\n",
    "t.left(90)\n",
    "t.pendown()\n",
    "t.circle(a, 90)\n",
    "t.right(135)\n",
    "t.circle(-a*2, 30)\n",
    "t.circle(a/5, 90)\n",
    "t.circle(-a/3, 210)\n",
    "t.circle(-a/5, 80)\n",
    "t.circle(a/4, 85)\n",
    "t.left(85)\n",
    "t.circle(-a*4, 16)\n",
    "t.left(198)\n",
    "t.circle(a, 100)\n",
    "t.home()\n",
    "t.penup()\n",
    "\n",
    "t.fillcolor('green')\n",
    "t.end_fill()"
   ]
  },
  {
   "cell_type": "markdown",
   "metadata": {},
   "source": [
    "Mouth"
   ]
  },
  {
   "cell_type": "code",
   "execution_count": 32,
   "metadata": {
    "collapsed": false
   },
   "outputs": [],
   "source": [
    "t.begin_fill()\n",
    "\n",
    "t.home()\n",
    "t.pendown()\n",
    "t.right(90)\n",
    "t.circle(-a, 200)\n",
    "t.left(150)\n",
    "t.forward(a)\n",
    "\n",
    "t.left(75)\n",
    "t.circle(a*3, 130)\n",
    "\n",
    "t.left(75)\n",
    "t.forward(a)\n",
    "t.left(149)\n",
    "t.circle(-a, 200)\n",
    "\n",
    "t.penup()\n",
    "\n",
    "t.fillcolor('green')\n",
    "t.end_fill()"
   ]
  },
  {
   "cell_type": "code",
   "execution_count": 33,
   "metadata": {
    "collapsed": false
   },
   "outputs": [],
   "source": [
    "t.home()\n",
    "t.pendown()\n",
    "t.right(90)\n",
    "t.circle(-a, 200)\n",
    "t.left(150)\n",
    "t.forward(a)\n",
    "t.left(75)\n",
    "t.circle(a*3, 5)\n",
    "\n",
    "lateral_tooth(a)  # left tooth\n",
    "\n",
    "t.penup()\n",
    "t.right(80)\n",
    "t.circle(a * 3, 13)\n",
    "t.pendown()\n",
    "\n",
    "# --- middle teeth ---\n",
    "t.right(60)\n",
    "middle_tooth(a)\n",
    "\n",
    "t.penup()\n",
    "t.right(60)\n",
    "t.circle(a * 3, 25)\n",
    "t.pendown()\n",
    "\n",
    "t.right(64)\n",
    "middle_tooth(a)\n",
    "# --- middle teeth ---\n",
    "\n",
    "t.penup()\n",
    "t.right(60)\n",
    "t.circle(a*3, 13)\n",
    "t.pendown()\n",
    "\n",
    "lateral_tooth(a)  # right tooth\n"
   ]
  }
 ],
 "metadata": {
  "kernelspec": {
   "display_name": "Python 3",
   "language": "python",
   "name": "python3"
  },
  "language_info": {
   "codemirror_mode": {
    "name": "ipython",
    "version": 3
   },
   "file_extension": ".py",
   "mimetype": "text/x-python",
   "name": "python",
   "nbconvert_exporter": "python",
   "pygments_lexer": "ipython3",
   "version": "3.4.3"
  }
 },
 "nbformat": 4,
 "nbformat_minor": 0
}
